{
 "cells": [
  {
   "cell_type": "code",
   "execution_count": 1,
   "outputs": [],
   "source": [
    "import pandas as pd\n",
    "\n",
    "\n",
    "'''\n",
    "Reading and reprocessing start data\n",
    "'''\n",
    "df_all_values_patients = pd.read_excel(r'data/test.xlsx')\n",
    "df_all_values_patients = df_all_values_patients.drop(index=119)"
   ],
   "metadata": {
    "collapsed": false
   }
  },
  {
   "cell_type": "code",
   "execution_count": 2,
   "outputs": [],
   "source": [
    "df_mean_ill_all = df_all_values_patients.loc[df_all_values_patients['Бронхиальная астма'] == 'средней тяжести']\n",
    "df_mean_ill_all = df_mean_ill_all.loc[:, [\n",
    "                                             'Возраст',\n",
    "                                             'ИМТ',\n",
    "                                             'Давность заболевания',\n",
    "                                             'Количество обострений за последний год',\n",
    "                                             'IgE',\n",
    "                                             'СРБ ',\n",
    "                                             'липиды',\n",
    "                                             'Глюкоза на момент поступления',\n",
    "                                             'Эозинофиллия'\n",
    "                                         ]\n",
    "                  ]\n",
    "df_mean_ill_all.astype(float)\n",
    "\n",
    "df_seriously_ill = df_all_values_patients.loc[df_all_values_patients['Бронхиальная астма'] == 'тяжелое течение']\n",
    "df_seriously_ill = df_seriously_ill.loc[:, [\n",
    "                                               'Возраст',\n",
    "                                               'ИМТ',\n",
    "                                               'Давность заболевания',\n",
    "                                               'Количество обострений за последний год',\n",
    "                                               'IgE',\n",
    "                                               'СРБ ',\n",
    "                                               'липиды',\n",
    "                                               'Глюкоза на момент поступления',\n",
    "                                               'Эозинофиллия'\n",
    "                                           ]\n",
    "                   ]\n",
    "df_seriously_ill.astype(float)\n",
    "\n",
    "df_a_seriously_ill = df_seriously_ill[:16]\n",
    "df_b_seriously_ill = df_seriously_ill[16:]"
   ],
   "metadata": {
    "collapsed": false,
    "ExecuteTime": {
     "start_time": "2023-05-02T19:45:35.711135Z",
     "end_time": "2023-05-02T19:45:35.742381Z"
    }
   }
  },
  {
   "cell_type": "code",
   "execution_count": 6,
   "outputs": [
    {
     "data": {
      "text/plain": "     Возраст        ИМТ  Давность заболевания   \n2       60.0  24.307244                   8.0  \\\n4       60.0  27.734375                   2.0   \n33      72.0  26.122449                  15.0   \n35      37.0  26.026175                   7.0   \n39      51.0  22.839506                   8.0   \n43      47.0  28.040378                  10.0   \n50      60.0  28.515625                  25.0   \n51      79.0  22.679952                  14.0   \n52      39.0  31.397174                  36.0   \n59      58.0  20.761246                  10.0   \n73      70.0  28.405504                   8.0   \n78      67.0  29.772228                  30.0   \n81      54.0  28.089011                   2.0   \n85      59.0  24.238227                   4.0   \n89      61.0  29.296875                  10.0   \n90      37.0  45.522935                   7.0   \n92      62.0  27.700831                  21.0   \n94      62.0  24.220227                   5.0   \n95      34.0  25.945484                  33.0   \n96      65.0  31.833910                   8.0   \n97      42.0  29.726516                  12.0   \n99      56.0  21.192742                   4.0   \n100     64.0  20.897959                   5.0   \n101     52.0  29.585799                  12.0   \n102     47.0  26.035105                   5.0   \n103     55.0  24.218750                  45.0   \n104     62.0  28.710479                   8.0   \n105     63.0  20.438166                   8.0   \n106     31.0  22.694019                   8.0   \n107     58.0  38.265306                  23.0   \n108     40.0  24.508946                   9.0   \n109     63.0  44.864605                  42.0   \n110     65.0  25.013521                   6.0   \n111     41.0  25.390625                   8.0   \n112     47.0  24.141519                   9.0   \n113     45.0  25.282570                   9.0   \n114     47.0  25.978680                   9.0   \n115     51.0  25.725517                  10.0   \n116     42.0  28.125000                  11.0   \n117     69.0  30.449827                  50.0   \n118     56.0  19.883853                   3.0   \n\n     Количество обострений за последний год     IgE  СРБ   липиды   \n2                                       0.0   100.0   5.0     7.8  \\\n4                                       1.0   151.0   5.0     8.3   \n33                                      3.0    76.0  52.0     7.5   \n35                                      2.0   215.0  33.0     4.3   \n39                                      6.0   100.0   3.0     5.3   \n43                                      2.0    25.0   9.0     7.3   \n50                                      5.0  1200.0   6.0     7.6   \n51                                      3.0  1120.0  10.0     6.2   \n52                                      3.0     6.0   2.0     6.8   \n59                                      2.0  1169.5   6.0     7.0   \n73                                      3.0     5.0  65.0     4.8   \n78                                      3.0    98.0   6.0     6.5   \n81                                      2.0   453.0   4.6     6.3   \n85                                      1.0   293.0   8.0     5.7   \n89                                      2.0   216.0   8.0     4.2   \n90                                      1.0   840.0   3.0     6.2   \n92                                      2.0   171.0   5.6     6.8   \n94                                      1.0    98.0   4.0     5.7   \n95                                      1.0   146.0   6.0     6.5   \n96                                      2.0    97.0   2.0     4.7   \n97                                      3.0    80.0   7.0     5.5   \n99                                      2.0   156.0   3.0     6.2   \n100                                     2.0   114.0  10.0     6.9   \n101                                     2.0    98.0  11.0     7.2   \n102                                     1.0   700.0   8.0     5.2   \n103                                     2.0    50.0   5.0     6.7   \n104                                     1.0  1800.0   6.0     5.6   \n105                                     1.0   660.0   7.0     8.0   \n106                                     3.0    30.0   5.0     4.2   \n107                                     1.0   400.0   6.0     7.3   \n108                                     3.0   470.0   3.0     5.0   \n109                                     2.0   240.0  14.0     6.5   \n110                                     2.0   140.0   8.0     5.2   \n111                                     3.0   800.0  19.0     5.2   \n112                                     2.0   180.0  12.0     6.2   \n113                                     0.0  1650.0   4.0     4.7   \n114                                     1.0  1500.0   3.0     4.0   \n115                                     1.0   180.0   5.0     7.8   \n116                                     1.0   528.0   4.0     5.1   \n117                                     0.0   720.0   8.0     6.3   \n118                                     2.0   140.0  12.0     7.1   \n\n     Глюкоза на момент поступления  Эозинофиллия  \n2                              5.8         180.0  \n4                             10.2        1380.0  \n33                             6.0         300.0  \n35                             3.9         350.0  \n39                             6.8           0.0  \n43                            18.0        1750.0  \n50                             4.9         610.0  \n51                             6.1        1130.0  \n52                             5.5         550.0  \n59                             4.2         148.0  \n73                             6.4         220.0  \n78                             6.3          30.0  \n81                             5.4          40.0  \n85                             4.4        1430.0  \n89                            12.6          96.0  \n90                             8.8         130.0  \n92                             4.6          82.0  \n94                             5.1        1300.0  \n95                             5.2         110.0  \n96                             6.9         150.0  \n97                             4.8         180.0  \n99                             4.8        1750.0  \n100                            6.2         370.0  \n101                            6.6         410.0  \n102                            4.5          65.0  \n103                            8.3         140.0  \n104                            6.3         165.0  \n105                            5.2         217.0  \n106                            3.7         151.0  \n107                            6.5         350.0  \n108                            4.0         195.0  \n109                            5.1          88.0  \n110                            4.8         400.0  \n111                            4.1         223.0  \n112                            8.3         220.0  \n113                            5.3         750.0  \n114                            3.8        1600.0  \n115                            5.2         371.0  \n116                            3.8         128.0  \n117                            5.5         791.0  \n118                            3.6        1260.0  ",
      "text/html": "<div>\n<style scoped>\n    .dataframe tbody tr th:only-of-type {\n        vertical-align: middle;\n    }\n\n    .dataframe tbody tr th {\n        vertical-align: top;\n    }\n\n    .dataframe thead th {\n        text-align: right;\n    }\n</style>\n<table border=\"1\" class=\"dataframe\">\n  <thead>\n    <tr style=\"text-align: right;\">\n      <th></th>\n      <th>Возраст</th>\n      <th>ИМТ</th>\n      <th>Давность заболевания</th>\n      <th>Количество обострений за последний год</th>\n      <th>IgE</th>\n      <th>СРБ</th>\n      <th>липиды</th>\n      <th>Глюкоза на момент поступления</th>\n      <th>Эозинофиллия</th>\n    </tr>\n  </thead>\n  <tbody>\n    <tr>\n      <th>2</th>\n      <td>60.0</td>\n      <td>24.307244</td>\n      <td>8.0</td>\n      <td>0.0</td>\n      <td>100.0</td>\n      <td>5.0</td>\n      <td>7.8</td>\n      <td>5.8</td>\n      <td>180.0</td>\n    </tr>\n    <tr>\n      <th>4</th>\n      <td>60.0</td>\n      <td>27.734375</td>\n      <td>2.0</td>\n      <td>1.0</td>\n      <td>151.0</td>\n      <td>5.0</td>\n      <td>8.3</td>\n      <td>10.2</td>\n      <td>1380.0</td>\n    </tr>\n    <tr>\n      <th>33</th>\n      <td>72.0</td>\n      <td>26.122449</td>\n      <td>15.0</td>\n      <td>3.0</td>\n      <td>76.0</td>\n      <td>52.0</td>\n      <td>7.5</td>\n      <td>6.0</td>\n      <td>300.0</td>\n    </tr>\n    <tr>\n      <th>35</th>\n      <td>37.0</td>\n      <td>26.026175</td>\n      <td>7.0</td>\n      <td>2.0</td>\n      <td>215.0</td>\n      <td>33.0</td>\n      <td>4.3</td>\n      <td>3.9</td>\n      <td>350.0</td>\n    </tr>\n    <tr>\n      <th>39</th>\n      <td>51.0</td>\n      <td>22.839506</td>\n      <td>8.0</td>\n      <td>6.0</td>\n      <td>100.0</td>\n      <td>3.0</td>\n      <td>5.3</td>\n      <td>6.8</td>\n      <td>0.0</td>\n    </tr>\n    <tr>\n      <th>43</th>\n      <td>47.0</td>\n      <td>28.040378</td>\n      <td>10.0</td>\n      <td>2.0</td>\n      <td>25.0</td>\n      <td>9.0</td>\n      <td>7.3</td>\n      <td>18.0</td>\n      <td>1750.0</td>\n    </tr>\n    <tr>\n      <th>50</th>\n      <td>60.0</td>\n      <td>28.515625</td>\n      <td>25.0</td>\n      <td>5.0</td>\n      <td>1200.0</td>\n      <td>6.0</td>\n      <td>7.6</td>\n      <td>4.9</td>\n      <td>610.0</td>\n    </tr>\n    <tr>\n      <th>51</th>\n      <td>79.0</td>\n      <td>22.679952</td>\n      <td>14.0</td>\n      <td>3.0</td>\n      <td>1120.0</td>\n      <td>10.0</td>\n      <td>6.2</td>\n      <td>6.1</td>\n      <td>1130.0</td>\n    </tr>\n    <tr>\n      <th>52</th>\n      <td>39.0</td>\n      <td>31.397174</td>\n      <td>36.0</td>\n      <td>3.0</td>\n      <td>6.0</td>\n      <td>2.0</td>\n      <td>6.8</td>\n      <td>5.5</td>\n      <td>550.0</td>\n    </tr>\n    <tr>\n      <th>59</th>\n      <td>58.0</td>\n      <td>20.761246</td>\n      <td>10.0</td>\n      <td>2.0</td>\n      <td>1169.5</td>\n      <td>6.0</td>\n      <td>7.0</td>\n      <td>4.2</td>\n      <td>148.0</td>\n    </tr>\n    <tr>\n      <th>73</th>\n      <td>70.0</td>\n      <td>28.405504</td>\n      <td>8.0</td>\n      <td>3.0</td>\n      <td>5.0</td>\n      <td>65.0</td>\n      <td>4.8</td>\n      <td>6.4</td>\n      <td>220.0</td>\n    </tr>\n    <tr>\n      <th>78</th>\n      <td>67.0</td>\n      <td>29.772228</td>\n      <td>30.0</td>\n      <td>3.0</td>\n      <td>98.0</td>\n      <td>6.0</td>\n      <td>6.5</td>\n      <td>6.3</td>\n      <td>30.0</td>\n    </tr>\n    <tr>\n      <th>81</th>\n      <td>54.0</td>\n      <td>28.089011</td>\n      <td>2.0</td>\n      <td>2.0</td>\n      <td>453.0</td>\n      <td>4.6</td>\n      <td>6.3</td>\n      <td>5.4</td>\n      <td>40.0</td>\n    </tr>\n    <tr>\n      <th>85</th>\n      <td>59.0</td>\n      <td>24.238227</td>\n      <td>4.0</td>\n      <td>1.0</td>\n      <td>293.0</td>\n      <td>8.0</td>\n      <td>5.7</td>\n      <td>4.4</td>\n      <td>1430.0</td>\n    </tr>\n    <tr>\n      <th>89</th>\n      <td>61.0</td>\n      <td>29.296875</td>\n      <td>10.0</td>\n      <td>2.0</td>\n      <td>216.0</td>\n      <td>8.0</td>\n      <td>4.2</td>\n      <td>12.6</td>\n      <td>96.0</td>\n    </tr>\n    <tr>\n      <th>90</th>\n      <td>37.0</td>\n      <td>45.522935</td>\n      <td>7.0</td>\n      <td>1.0</td>\n      <td>840.0</td>\n      <td>3.0</td>\n      <td>6.2</td>\n      <td>8.8</td>\n      <td>130.0</td>\n    </tr>\n    <tr>\n      <th>92</th>\n      <td>62.0</td>\n      <td>27.700831</td>\n      <td>21.0</td>\n      <td>2.0</td>\n      <td>171.0</td>\n      <td>5.6</td>\n      <td>6.8</td>\n      <td>4.6</td>\n      <td>82.0</td>\n    </tr>\n    <tr>\n      <th>94</th>\n      <td>62.0</td>\n      <td>24.220227</td>\n      <td>5.0</td>\n      <td>1.0</td>\n      <td>98.0</td>\n      <td>4.0</td>\n      <td>5.7</td>\n      <td>5.1</td>\n      <td>1300.0</td>\n    </tr>\n    <tr>\n      <th>95</th>\n      <td>34.0</td>\n      <td>25.945484</td>\n      <td>33.0</td>\n      <td>1.0</td>\n      <td>146.0</td>\n      <td>6.0</td>\n      <td>6.5</td>\n      <td>5.2</td>\n      <td>110.0</td>\n    </tr>\n    <tr>\n      <th>96</th>\n      <td>65.0</td>\n      <td>31.833910</td>\n      <td>8.0</td>\n      <td>2.0</td>\n      <td>97.0</td>\n      <td>2.0</td>\n      <td>4.7</td>\n      <td>6.9</td>\n      <td>150.0</td>\n    </tr>\n    <tr>\n      <th>97</th>\n      <td>42.0</td>\n      <td>29.726516</td>\n      <td>12.0</td>\n      <td>3.0</td>\n      <td>80.0</td>\n      <td>7.0</td>\n      <td>5.5</td>\n      <td>4.8</td>\n      <td>180.0</td>\n    </tr>\n    <tr>\n      <th>99</th>\n      <td>56.0</td>\n      <td>21.192742</td>\n      <td>4.0</td>\n      <td>2.0</td>\n      <td>156.0</td>\n      <td>3.0</td>\n      <td>6.2</td>\n      <td>4.8</td>\n      <td>1750.0</td>\n    </tr>\n    <tr>\n      <th>100</th>\n      <td>64.0</td>\n      <td>20.897959</td>\n      <td>5.0</td>\n      <td>2.0</td>\n      <td>114.0</td>\n      <td>10.0</td>\n      <td>6.9</td>\n      <td>6.2</td>\n      <td>370.0</td>\n    </tr>\n    <tr>\n      <th>101</th>\n      <td>52.0</td>\n      <td>29.585799</td>\n      <td>12.0</td>\n      <td>2.0</td>\n      <td>98.0</td>\n      <td>11.0</td>\n      <td>7.2</td>\n      <td>6.6</td>\n      <td>410.0</td>\n    </tr>\n    <tr>\n      <th>102</th>\n      <td>47.0</td>\n      <td>26.035105</td>\n      <td>5.0</td>\n      <td>1.0</td>\n      <td>700.0</td>\n      <td>8.0</td>\n      <td>5.2</td>\n      <td>4.5</td>\n      <td>65.0</td>\n    </tr>\n    <tr>\n      <th>103</th>\n      <td>55.0</td>\n      <td>24.218750</td>\n      <td>45.0</td>\n      <td>2.0</td>\n      <td>50.0</td>\n      <td>5.0</td>\n      <td>6.7</td>\n      <td>8.3</td>\n      <td>140.0</td>\n    </tr>\n    <tr>\n      <th>104</th>\n      <td>62.0</td>\n      <td>28.710479</td>\n      <td>8.0</td>\n      <td>1.0</td>\n      <td>1800.0</td>\n      <td>6.0</td>\n      <td>5.6</td>\n      <td>6.3</td>\n      <td>165.0</td>\n    </tr>\n    <tr>\n      <th>105</th>\n      <td>63.0</td>\n      <td>20.438166</td>\n      <td>8.0</td>\n      <td>1.0</td>\n      <td>660.0</td>\n      <td>7.0</td>\n      <td>8.0</td>\n      <td>5.2</td>\n      <td>217.0</td>\n    </tr>\n    <tr>\n      <th>106</th>\n      <td>31.0</td>\n      <td>22.694019</td>\n      <td>8.0</td>\n      <td>3.0</td>\n      <td>30.0</td>\n      <td>5.0</td>\n      <td>4.2</td>\n      <td>3.7</td>\n      <td>151.0</td>\n    </tr>\n    <tr>\n      <th>107</th>\n      <td>58.0</td>\n      <td>38.265306</td>\n      <td>23.0</td>\n      <td>1.0</td>\n      <td>400.0</td>\n      <td>6.0</td>\n      <td>7.3</td>\n      <td>6.5</td>\n      <td>350.0</td>\n    </tr>\n    <tr>\n      <th>108</th>\n      <td>40.0</td>\n      <td>24.508946</td>\n      <td>9.0</td>\n      <td>3.0</td>\n      <td>470.0</td>\n      <td>3.0</td>\n      <td>5.0</td>\n      <td>4.0</td>\n      <td>195.0</td>\n    </tr>\n    <tr>\n      <th>109</th>\n      <td>63.0</td>\n      <td>44.864605</td>\n      <td>42.0</td>\n      <td>2.0</td>\n      <td>240.0</td>\n      <td>14.0</td>\n      <td>6.5</td>\n      <td>5.1</td>\n      <td>88.0</td>\n    </tr>\n    <tr>\n      <th>110</th>\n      <td>65.0</td>\n      <td>25.013521</td>\n      <td>6.0</td>\n      <td>2.0</td>\n      <td>140.0</td>\n      <td>8.0</td>\n      <td>5.2</td>\n      <td>4.8</td>\n      <td>400.0</td>\n    </tr>\n    <tr>\n      <th>111</th>\n      <td>41.0</td>\n      <td>25.390625</td>\n      <td>8.0</td>\n      <td>3.0</td>\n      <td>800.0</td>\n      <td>19.0</td>\n      <td>5.2</td>\n      <td>4.1</td>\n      <td>223.0</td>\n    </tr>\n    <tr>\n      <th>112</th>\n      <td>47.0</td>\n      <td>24.141519</td>\n      <td>9.0</td>\n      <td>2.0</td>\n      <td>180.0</td>\n      <td>12.0</td>\n      <td>6.2</td>\n      <td>8.3</td>\n      <td>220.0</td>\n    </tr>\n    <tr>\n      <th>113</th>\n      <td>45.0</td>\n      <td>25.282570</td>\n      <td>9.0</td>\n      <td>0.0</td>\n      <td>1650.0</td>\n      <td>4.0</td>\n      <td>4.7</td>\n      <td>5.3</td>\n      <td>750.0</td>\n    </tr>\n    <tr>\n      <th>114</th>\n      <td>47.0</td>\n      <td>25.978680</td>\n      <td>9.0</td>\n      <td>1.0</td>\n      <td>1500.0</td>\n      <td>3.0</td>\n      <td>4.0</td>\n      <td>3.8</td>\n      <td>1600.0</td>\n    </tr>\n    <tr>\n      <th>115</th>\n      <td>51.0</td>\n      <td>25.725517</td>\n      <td>10.0</td>\n      <td>1.0</td>\n      <td>180.0</td>\n      <td>5.0</td>\n      <td>7.8</td>\n      <td>5.2</td>\n      <td>371.0</td>\n    </tr>\n    <tr>\n      <th>116</th>\n      <td>42.0</td>\n      <td>28.125000</td>\n      <td>11.0</td>\n      <td>1.0</td>\n      <td>528.0</td>\n      <td>4.0</td>\n      <td>5.1</td>\n      <td>3.8</td>\n      <td>128.0</td>\n    </tr>\n    <tr>\n      <th>117</th>\n      <td>69.0</td>\n      <td>30.449827</td>\n      <td>50.0</td>\n      <td>0.0</td>\n      <td>720.0</td>\n      <td>8.0</td>\n      <td>6.3</td>\n      <td>5.5</td>\n      <td>791.0</td>\n    </tr>\n    <tr>\n      <th>118</th>\n      <td>56.0</td>\n      <td>19.883853</td>\n      <td>3.0</td>\n      <td>2.0</td>\n      <td>140.0</td>\n      <td>12.0</td>\n      <td>7.1</td>\n      <td>3.6</td>\n      <td>1260.0</td>\n    </tr>\n  </tbody>\n</table>\n</div>"
     },
     "execution_count": 6,
     "metadata": {},
     "output_type": "execute_result"
    }
   ],
   "source": [
    "df_all_ill = df_all_values_patients\n",
    "df_all_ill = df_seriously_ill.loc[:, [\n",
    "                                               'Возраст',\n",
    "                                               'ИМТ',\n",
    "                                               'Давность заболевания',\n",
    "                                               'Количество обострений за последний год',\n",
    "                                               'IgE',\n",
    "                                               'СРБ ',\n",
    "                                               'липиды',\n",
    "                                               'Глюкоза на момент поступления',\n",
    "                                               'Эозинофиллия'\n",
    "                                           ]\n",
    "                   ]\n",
    "df_all_ill.astype(float)"
   ],
   "metadata": {
    "collapsed": false,
    "ExecuteTime": {
     "start_time": "2023-05-02T20:50:17.309898Z",
     "end_time": "2023-05-02T20:50:17.420800Z"
    }
   }
  },
  {
   "cell_type": "code",
   "execution_count": 8,
   "outputs": [],
   "source": [
    "with pd.ExcelWriter('result/result_check.xlsx') as writer:\n",
    "    df_all_ill.to_excel(writer, sheet_name='all_ill', index=False)\n",
    "    df_mean_ill_all.to_excel(writer, sheet_name='mean_ill_all', index=False)\n",
    "    df_seriously_ill.to_excel(writer, sheet_name='seriously_ill_all', index=False)\n",
    "    df_b_seriously_ill.to_excel(writer, sheet_name='b_seriously_ill', index=False)\n",
    "    df_a_seriously_ill.to_excel(writer, sheet_name='a_seriously_ill', index=False)"
   ],
   "metadata": {
    "collapsed": false,
    "ExecuteTime": {
     "start_time": "2023-05-04T14:12:43.080117Z",
     "end_time": "2023-05-04T14:12:43.256106Z"
    }
   }
  },
  {
   "cell_type": "code",
   "execution_count": null,
   "outputs": [],
   "source": [],
   "metadata": {
    "collapsed": false
   }
  }
 ],
 "metadata": {
  "kernelspec": {
   "display_name": "Python 3",
   "language": "python",
   "name": "python3"
  },
  "language_info": {
   "codemirror_mode": {
    "name": "ipython",
    "version": 2
   },
   "file_extension": ".py",
   "mimetype": "text/x-python",
   "name": "python",
   "nbconvert_exporter": "python",
   "pygments_lexer": "ipython2",
   "version": "2.7.6"
  }
 },
 "nbformat": 4,
 "nbformat_minor": 0
}
